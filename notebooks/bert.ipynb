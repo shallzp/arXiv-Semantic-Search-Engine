{
 "cells": [
  {
   "cell_type": "code",
   "execution_count": 1,
   "id": "8e69769e",
   "metadata": {},
   "outputs": [
    {
     "name": "stderr",
     "output_type": "stream",
     "text": [
      "c:\\Users\\Shalini Patel\\Desktop\\Coding\\Projects\\Semantic Search Engine\\venv\\Lib\\site-packages\\tqdm\\auto.py:21: TqdmWarning: IProgress not found. Please update jupyter and ipywidgets. See https://ipywidgets.readthedocs.io/en/stable/user_install.html\n",
      "  from .autonotebook import tqdm as notebook_tqdm\n"
     ]
    },
    {
     "name": "stdout",
     "output_type": "stream",
     "text": [
      "WARNING:tensorflow:From c:\\Users\\Shalini Patel\\Desktop\\Coding\\Projects\\Semantic Search Engine\\venv\\Lib\\site-packages\\tf_keras\\src\\losses.py:2976: The name tf.losses.sparse_softmax_cross_entropy is deprecated. Please use tf.compat.v1.losses.sparse_softmax_cross_entropy instead.\n",
      "\n"
     ]
    }
   ],
   "source": [
    "import numpy as np\n",
    "import pandas as pd\n",
    "from sklearn.metrics.pairwise import cosine_similarity\n",
    "from sentence_transformers import SentenceTransformer"
   ]
  },
  {
   "cell_type": "markdown",
   "id": "d4f1b856",
   "metadata": {},
   "source": [
    "# Load Data"
   ]
  },
  {
   "cell_type": "code",
   "execution_count": 2,
   "id": "af2d30f9",
   "metadata": {},
   "outputs": [],
   "source": [
    "df = pd.read_pickle('../data/processed_arxiv_data.pkl')"
   ]
  },
  {
   "cell_type": "markdown",
   "id": "fc4b32c1",
   "metadata": {},
   "source": [
    "# Load Pre trained SBERT model"
   ]
  },
  {
   "cell_type": "code",
   "execution_count": 3,
   "id": "00f5413f",
   "metadata": {},
   "outputs": [],
   "source": [
    "# This model maps sentences to a 384-dimensional vector space.\n",
    "model = SentenceTransformer('all-MiniLM-L6-v2')"
   ]
  },
  {
   "cell_type": "code",
   "execution_count": 4,
   "id": "389e71ce",
   "metadata": {},
   "outputs": [
    {
     "name": "stderr",
     "output_type": "stream",
     "text": [
      "Batches: 100%|██████████| 9988/9988 [59:38<00:00,  2.79it/s]  \n"
     ]
    }
   ],
   "source": [
    "# Encoding titles\n",
    "titles = df['title'].tolist()\n",
    "title_embeddings = model.encode(titles, batch_size=100, show_progress_bar=True)\n",
    "\n",
    "np.save('../data/title_embeddings.npy', title_embeddings)"
   ]
  },
  {
   "cell_type": "code",
   "execution_count": null,
   "id": "208f0292",
   "metadata": {},
   "outputs": [],
   "source": [
    "# Encoding abstracts\n",
    "abstracts = df['abstract'].tolist()\n",
    "embeddings = model.encode(abstracts, batch_size=100, show_progress_bar=True)\n",
    "\n",
    "np.save('../data/abstract_embeddings.npy', embeddings)"
   ]
  },
  {
   "cell_type": "code",
   "execution_count": null,
   "id": "4456e510",
   "metadata": {},
   "outputs": [],
   "source": [
    "# Load saved embeddings \n",
    "embeddings = np.load('../data/abstract_embeddings.npy')\n",
    "title_embeddings = np.load('../data/title_embeddings.npy')"
   ]
  },
  {
   "cell_type": "markdown",
   "id": "4fb05140",
   "metadata": {},
   "source": [
    "# Search Function"
   ]
  },
  {
   "cell_type": "code",
   "execution_count": 6,
   "id": "8ddbd97c",
   "metadata": {},
   "outputs": [],
   "source": [
    "def semantic_search(query, model, embeddings, df, top_k=10):\n",
    "    query_embedding = model.encode([query]) # Encode raw user query to embedding\n",
    "    \n",
    "    cosine_scores = cosine_similarity(query_embedding, embeddings)[0] # Compute cosine similarity between query and all abstract embeddings\n",
    "    top_indices = cosine_scores.argsort()[-top_k:][::-1]\n",
    "    \n",
    "    results = df.iloc[top_indices].copy()\n",
    "    results['similarity_score'] = cosine_scores[top_indices]\n",
    "    return results[['id', 'title', 'authors', 'abstract', 'similarity_score']]"
   ]
  },
  {
   "cell_type": "markdown",
   "id": "2fad791c",
   "metadata": {},
   "source": [
    "# Example"
   ]
  },
  {
   "cell_type": "code",
   "execution_count": 7,
   "id": "54305655",
   "metadata": {},
   "outputs": [
    {
     "data": {
      "text/html": [
       "<div>\n",
       "<style scoped>\n",
       "    .dataframe tbody tr th:only-of-type {\n",
       "        vertical-align: middle;\n",
       "    }\n",
       "\n",
       "    .dataframe tbody tr th {\n",
       "        vertical-align: top;\n",
       "    }\n",
       "\n",
       "    .dataframe thead th {\n",
       "        text-align: right;\n",
       "    }\n",
       "</style>\n",
       "<table border=\"1\" class=\"dataframe\">\n",
       "  <thead>\n",
       "    <tr style=\"text-align: right;\">\n",
       "      <th></th>\n",
       "      <th>id</th>\n",
       "      <th>title</th>\n",
       "      <th>authors</th>\n",
       "      <th>abstract</th>\n",
       "      <th>similarity_score</th>\n",
       "    </tr>\n",
       "  </thead>\n",
       "  <tbody>\n",
       "    <tr>\n",
       "      <th>250491</th>\n",
       "      <td>1103.32230</td>\n",
       "      <td>Using Soft Computer Techniques on Smart Device...</td>\n",
       "      <td>Piero Giacomelli, Giulia Munaro and Roberto Rosso</td>\n",
       "      <td>CHRONIOUS is an Open, Ubiquitous and Adaptiv...</td>\n",
       "      <td>0.561400</td>\n",
       "    </tr>\n",
       "    <tr>\n",
       "      <th>594722</th>\n",
       "      <td>1502.00062</td>\n",
       "      <td>A New Intelligence Based Approach for Computer...</td>\n",
       "      <td>Vadrevu Sree Hari Rao and Mallenahalli Naresh ...</td>\n",
       "      <td>Identification of the influential clinical s...</td>\n",
       "      <td>0.550519</td>\n",
       "    </tr>\n",
       "    <tr>\n",
       "      <th>443139</th>\n",
       "      <td>1307.14110</td>\n",
       "      <td>Discovering Sequential Patterns in a UK Genera...</td>\n",
       "      <td>Jenna Reps, Jonathan M. Garibaldi, Uwe Aickeli...</td>\n",
       "      <td>The wealth of computerised medical informati...</td>\n",
       "      <td>0.549737</td>\n",
       "    </tr>\n",
       "    <tr>\n",
       "      <th>560478</th>\n",
       "      <td>1409.80530</td>\n",
       "      <td>Medical diagnosis as pattern recognition in a ...</td>\n",
       "      <td>J. Gerard Wolff</td>\n",
       "      <td>This paper describes a novel approach to med...</td>\n",
       "      <td>0.543002</td>\n",
       "    </tr>\n",
       "    <tr>\n",
       "      <th>686642</th>\n",
       "      <td>1512.03990</td>\n",
       "      <td>Cloud-based Electronic Health Records for Real...</td>\n",
       "      <td>Mauricio Santillana, Andre Nguyen, Tamara Loui...</td>\n",
       "      <td>Accurate real-time monitoring systems of inf...</td>\n",
       "      <td>0.533153</td>\n",
       "    </tr>\n",
       "  </tbody>\n",
       "</table>\n",
       "</div>"
      ],
      "text/plain": [
       "                id                                              title  \\\n",
       "250491  1103.32230  Using Soft Computer Techniques on Smart Device...   \n",
       "594722  1502.00062  A New Intelligence Based Approach for Computer...   \n",
       "443139  1307.14110  Discovering Sequential Patterns in a UK Genera...   \n",
       "560478  1409.80530  Medical diagnosis as pattern recognition in a ...   \n",
       "686642  1512.03990  Cloud-based Electronic Health Records for Real...   \n",
       "\n",
       "                                                  authors  \\\n",
       "250491  Piero Giacomelli, Giulia Munaro and Roberto Rosso   \n",
       "594722  Vadrevu Sree Hari Rao and Mallenahalli Naresh ...   \n",
       "443139  Jenna Reps, Jonathan M. Garibaldi, Uwe Aickeli...   \n",
       "560478                                    J. Gerard Wolff   \n",
       "686642  Mauricio Santillana, Andre Nguyen, Tamara Loui...   \n",
       "\n",
       "                                                 abstract  similarity_score  \n",
       "250491    CHRONIOUS is an Open, Ubiquitous and Adaptiv...          0.561400  \n",
       "594722    Identification of the influential clinical s...          0.550519  \n",
       "443139    The wealth of computerised medical informati...          0.549737  \n",
       "560478    This paper describes a novel approach to med...          0.543002  \n",
       "686642    Accurate real-time monitoring systems of inf...          0.533153  "
      ]
     },
     "execution_count": 7,
     "metadata": {},
     "output_type": "execute_result"
    }
   ],
   "source": [
    "# abstract\n",
    "semantic_search(\"using machine learning to treat illnesses\", model, embeddings, df, top_k=5)"
   ]
  },
  {
   "cell_type": "code",
   "execution_count": 8,
   "id": "81532328",
   "metadata": {},
   "outputs": [
    {
     "data": {
      "text/html": [
       "<div>\n",
       "<style scoped>\n",
       "    .dataframe tbody tr th:only-of-type {\n",
       "        vertical-align: middle;\n",
       "    }\n",
       "\n",
       "    .dataframe tbody tr th {\n",
       "        vertical-align: top;\n",
       "    }\n",
       "\n",
       "    .dataframe thead th {\n",
       "        text-align: right;\n",
       "    }\n",
       "</style>\n",
       "<table border=\"1\" class=\"dataframe\">\n",
       "  <thead>\n",
       "    <tr style=\"text-align: right;\">\n",
       "      <th></th>\n",
       "      <th>id</th>\n",
       "      <th>title</th>\n",
       "      <th>authors</th>\n",
       "      <th>abstract</th>\n",
       "      <th>similarity_score</th>\n",
       "    </tr>\n",
       "  </thead>\n",
       "  <tbody>\n",
       "    <tr>\n",
       "      <th>883999</th>\n",
       "      <td>1708.08987</td>\n",
       "      <td>Deep Learning for Medical Image Analysis</td>\n",
       "      <td>Mina Rezaei, Haojin Yang and Christoph Meinel</td>\n",
       "      <td>This report describes my research activities...</td>\n",
       "      <td>0.878883</td>\n",
       "    </tr>\n",
       "    <tr>\n",
       "      <th>820341</th>\n",
       "      <td>1702.05747</td>\n",
       "      <td>A Survey on Deep Learning in Medical Image Ana...</td>\n",
       "      <td>Geert Litjens, Thijs Kooi, Babak Ehteshami Bej...</td>\n",
       "      <td>Deep learning algorithms, in particular conv...</td>\n",
       "      <td>0.788628</td>\n",
       "    </tr>\n",
       "    <tr>\n",
       "      <th>841337</th>\n",
       "      <td>1704.06825</td>\n",
       "      <td>Deep Learning for Medical Image Processing: Ov...</td>\n",
       "      <td>Muhammad Imran Razzak, Saeeda Naz and Ahmad Zaib</td>\n",
       "      <td>Healthcare sector is totally different from ...</td>\n",
       "      <td>0.788516</td>\n",
       "    </tr>\n",
       "    <tr>\n",
       "      <th>622272</th>\n",
       "      <td>1505.02000</td>\n",
       "      <td>Deep Learning for Medical Image Segmentation</td>\n",
       "      <td>Matthew Lai</td>\n",
       "      <td>This report provides an overview of the curr...</td>\n",
       "      <td>0.786511</td>\n",
       "    </tr>\n",
       "    <tr>\n",
       "      <th>888351</th>\n",
       "      <td>1709.03485</td>\n",
       "      <td>NiftyNet: a deep-learning platform for medical...</td>\n",
       "      <td>Eli Gibson, Wenqi Li, Carole Sudre, Lucas Fido...</td>\n",
       "      <td>Medical image analysis and computer-assisted...</td>\n",
       "      <td>0.773330</td>\n",
       "    </tr>\n",
       "  </tbody>\n",
       "</table>\n",
       "</div>"
      ],
      "text/plain": [
       "                id                                              title  \\\n",
       "883999  1708.08987           Deep Learning for Medical Image Analysis   \n",
       "820341  1702.05747  A Survey on Deep Learning in Medical Image Ana...   \n",
       "841337  1704.06825  Deep Learning for Medical Image Processing: Ov...   \n",
       "622272  1505.02000       Deep Learning for Medical Image Segmentation   \n",
       "888351  1709.03485  NiftyNet: a deep-learning platform for medical...   \n",
       "\n",
       "                                                  authors  \\\n",
       "883999      Mina Rezaei, Haojin Yang and Christoph Meinel   \n",
       "820341  Geert Litjens, Thijs Kooi, Babak Ehteshami Bej...   \n",
       "841337   Muhammad Imran Razzak, Saeeda Naz and Ahmad Zaib   \n",
       "622272                                        Matthew Lai   \n",
       "888351  Eli Gibson, Wenqi Li, Carole Sudre, Lucas Fido...   \n",
       "\n",
       "                                                 abstract  similarity_score  \n",
       "883999    This report describes my research activities...          0.878883  \n",
       "820341    Deep learning algorithms, in particular conv...          0.788628  \n",
       "841337    Healthcare sector is totally different from ...          0.788516  \n",
       "622272    This report provides an overview of the curr...          0.786511  \n",
       "888351    Medical image analysis and computer-assisted...          0.773330  "
      ]
     },
     "execution_count": 8,
     "metadata": {},
     "output_type": "execute_result"
    }
   ],
   "source": [
    "# title\n",
    "semantic_search(\"deep learning in medical imaging\", model, title_embeddings, df, top_k=5)"
   ]
  }
 ],
 "metadata": {
  "kernelspec": {
   "display_name": "venv",
   "language": "python",
   "name": "python3"
  },
  "language_info": {
   "codemirror_mode": {
    "name": "ipython",
    "version": 3
   },
   "file_extension": ".py",
   "mimetype": "text/x-python",
   "name": "python",
   "nbconvert_exporter": "python",
   "pygments_lexer": "ipython3",
   "version": "3.13.5"
  }
 },
 "nbformat": 4,
 "nbformat_minor": 5
}
