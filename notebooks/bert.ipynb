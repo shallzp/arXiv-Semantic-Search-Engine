{
 "cells": [
  {
   "cell_type": "code",
   "execution_count": 1,
   "id": "8e69769e",
   "metadata": {},
   "outputs": [
    {
     "name": "stderr",
     "output_type": "stream",
     "text": [
      "c:\\Users\\Shalini Patel\\Desktop\\Coding\\Projects\\Semantic Search Engine\\venv\\Lib\\site-packages\\tqdm\\auto.py:21: TqdmWarning: IProgress not found. Please update jupyter and ipywidgets. See https://ipywidgets.readthedocs.io/en/stable/user_install.html\n",
      "  from .autonotebook import tqdm as notebook_tqdm\n"
     ]
    },
    {
     "name": "stdout",
     "output_type": "stream",
     "text": [
      "WARNING:tensorflow:From c:\\Users\\Shalini Patel\\Desktop\\Coding\\Projects\\Semantic Search Engine\\venv\\Lib\\site-packages\\tf_keras\\src\\losses.py:2976: The name tf.losses.sparse_softmax_cross_entropy is deprecated. Please use tf.compat.v1.losses.sparse_softmax_cross_entropy instead.\n",
      "\n"
     ]
    }
   ],
   "source": [
    "import numpy as np\n",
    "import pandas as pd\n",
    "from sklearn.metrics.pairwise import cosine_similarity\n",
    "from sentence_transformers import SentenceTransformer"
   ]
  },
  {
   "cell_type": "markdown",
   "id": "d4f1b856",
   "metadata": {},
   "source": [
    "# Load Data"
   ]
  },
  {
   "cell_type": "code",
   "execution_count": 2,
   "id": "af2d30f9",
   "metadata": {},
   "outputs": [],
   "source": [
    "df = pd.read_pickle('../data/processed_arxiv_data.pkl')"
   ]
  },
  {
   "cell_type": "markdown",
   "id": "fc4b32c1",
   "metadata": {},
   "source": [
    "# Load Pre trained SBERT model"
   ]
  },
  {
   "cell_type": "code",
   "execution_count": 3,
   "id": "00f5413f",
   "metadata": {},
   "outputs": [],
   "source": [
    "# This model maps sentences to a 384-dimensional vector space.\n",
    "model = SentenceTransformer('all-MiniLM-L6-v2')"
   ]
  },
  {
   "cell_type": "code",
   "execution_count": null,
   "id": "208f0292",
   "metadata": {},
   "outputs": [
    {
     "name": "stderr",
     "output_type": "stream",
     "text": [
      "Batches:   6%|▋         | 632/9988 [23:40<5:04:44,  1.95s/it] "
     ]
    }
   ],
   "source": [
    "# Create embeddings for all abstracts\n",
    "abstracts = df['abstract'].tolist()\n",
    "embeddings = model.encode(abstracts, batch_size=100, show_progress_bar=True)"
   ]
  },
  {
   "cell_type": "code",
   "execution_count": null,
   "id": "f9b2fc80",
   "metadata": {},
   "outputs": [],
   "source": [
    "# Save embeddings to disk for reuse\n",
    "np.save('../data/abstract_embeddings.npy', embeddings)"
   ]
  },
  {
   "cell_type": "code",
   "execution_count": null,
   "id": "cb446c95",
   "metadata": {},
   "outputs": [],
   "source": [
    "# Load later with\n",
    "embeddings = np.load('../data/abstract_embeddings.npy')"
   ]
  },
  {
   "cell_type": "markdown",
   "id": "4fb05140",
   "metadata": {},
   "source": [
    "# Search Function"
   ]
  },
  {
   "cell_type": "code",
   "execution_count": null,
   "id": "8ddbd97c",
   "metadata": {},
   "outputs": [],
   "source": [
    "def semantic_search(query, model, embeddings, df, top_k=10):\n",
    "    query_embedding = model.encode([query]) # Encode raw user query to embedding\n",
    "    \n",
    "    cosine_scores = cosine_similarity(query_embedding, embeddings)[0] # Compute cosine similarity between query and all abstract embeddings\n",
    "    top_indices = cosine_scores.argsort()[-top_k:][::-1]\n",
    "    \n",
    "    results = df.iloc[top_indices].copy()\n",
    "    results['similarity_score'] = cosine_scores[top_indices]\n",
    "    return results[['id', 'title', 'authors', 'abstract', 'similarity_score']]"
   ]
  },
  {
   "cell_type": "markdown",
   "id": "2fad791c",
   "metadata": {},
   "source": [
    "# Example"
   ]
  },
  {
   "cell_type": "code",
   "execution_count": null,
   "id": "54305655",
   "metadata": {},
   "outputs": [],
   "source": [
    "results = semantic_search(\"using machine learning to treat illnesses\", model, embeddings, df, top_k=5)"
   ]
  },
  {
   "cell_type": "code",
   "execution_count": null,
   "id": "81532328",
   "metadata": {},
   "outputs": [],
   "source": [
    "results"
   ]
  }
 ],
 "metadata": {
  "kernelspec": {
   "display_name": "venv",
   "language": "python",
   "name": "python3"
  },
  "language_info": {
   "codemirror_mode": {
    "name": "ipython",
    "version": 3
   },
   "file_extension": ".py",
   "mimetype": "text/x-python",
   "name": "python",
   "nbconvert_exporter": "python",
   "pygments_lexer": "ipython3",
   "version": "3.13.5"
  }
 },
 "nbformat": 4,
 "nbformat_minor": 5
}
