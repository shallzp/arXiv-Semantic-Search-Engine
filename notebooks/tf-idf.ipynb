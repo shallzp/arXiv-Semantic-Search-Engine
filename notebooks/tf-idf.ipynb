{
 "cells": [
  {
   "cell_type": "code",
   "execution_count": 1,
   "id": "7cdeba4e",
   "metadata": {},
   "outputs": [],
   "source": [
    "import pandas as pd\n",
    "import string\n",
    "from sklearn.feature_extraction.text import TfidfVectorizer\n",
    "from sklearn.metrics.pairwise import cosine_similarity\n",
    "import pickle"
   ]
  },
  {
   "cell_type": "markdown",
   "id": "cffa86bc",
   "metadata": {},
   "source": [
    "# Load Data"
   ]
  },
  {
   "cell_type": "code",
   "execution_count": 2,
   "id": "551da5f2",
   "metadata": {},
   "outputs": [],
   "source": [
    "df = pd.read_pickle('../data/processed_arxiv_data.pkl')"
   ]
  },
  {
   "cell_type": "markdown",
   "id": "79989924",
   "metadata": {},
   "source": [
    "# Vectorization (TF-IDF)"
   ]
  },
  {
   "cell_type": "code",
   "execution_count": 3,
   "id": "65c9687a",
   "metadata": {},
   "outputs": [],
   "source": [
    "vectorizer = TfidfVectorizer(\n",
    "    max_features=500000,\n",
    "    max_df=0.8, # Ignore terms that appear in more than 80% of documents\n",
    "    min_df=5, # Ignore terms that appear in fewer than 5 documents\n",
    ")"
   ]
  },
  {
   "cell_type": "code",
   "execution_count": 4,
   "id": "c45e0e3b",
   "metadata": {},
   "outputs": [
    {
     "name": "stdout",
     "output_type": "stream",
     "text": [
      "TF-IDF matrix shape: (998709, 165273)\n"
     ]
    }
   ],
   "source": [
    "# Fit the vectorizer on the cleaned abstracts and transform them into vectors\n",
    "tfidf_matrix = vectorizer.fit_transform(df['abstract_clean'])\n",
    "print(f\"TF-IDF matrix shape: {tfidf_matrix.shape}\")"
   ]
  },
  {
   "cell_type": "code",
   "execution_count": 5,
   "id": "cf69c584",
   "metadata": {},
   "outputs": [],
   "source": [
    "with open('../data/tfidf_vectorizer.pkl', 'wb') as f:\n",
    "    pickle.dump(vectorizer, f)\n",
    "\n",
    "with open('../data/tfidf_matrix.pkl', 'wb') as f:\n",
    "    pickle.dump(tfidf_matrix, f)"
   ]
  },
  {
   "cell_type": "markdown",
   "id": "e20a3926",
   "metadata": {},
   "source": [
    "# Search Function"
   ]
  },
  {
   "cell_type": "code",
   "execution_count": 6,
   "id": "e4ea72d4",
   "metadata": {},
   "outputs": [],
   "source": [
    "def clean_text(text):\n",
    "    text = text.lower()\n",
    "    text = text.translate(str.maketrans('', '', string.punctuation))\n",
    "    text = text.strip()\n",
    "    words = text.split()\n",
    "    words = [word for word in words if word not in set()]\n",
    "    return ' '.join(words)"
   ]
  },
  {
   "cell_type": "code",
   "execution_count": 7,
   "id": "c42d7b8b",
   "metadata": {},
   "outputs": [],
   "source": [
    "def search_papers(query, vectorizer, tfidf_matrix, df, top_k=10):\n",
    "    query_clean = clean_text(query) # Clean and preprocess the query\n",
    "    \n",
    "    query_vec = vectorizer.transform([query_clean]) # Vectorize the query using fitted vectorizer\n",
    "    \n",
    "    cosine_sim = cosine_similarity(query_vec, tfidf_matrix).flatten() # Calculate cosine similarity between query and all abstracts\n",
    "    top_indices = cosine_sim.argsort()[-top_k:][::-1]\n",
    "    \n",
    "    results = df.iloc[top_indices].copy()\n",
    "    results['similarity_score'] = cosine_sim[top_indices]\n",
    "    \n",
    "    return results"
   ]
  },
  {
   "cell_type": "markdown",
   "id": "3cd07e7e",
   "metadata": {},
   "source": [
    "# Example"
   ]
  },
  {
   "cell_type": "code",
   "execution_count": 8,
   "id": "f500efbb",
   "metadata": {},
   "outputs": [],
   "source": [
    "top_papers = search_papers(\"papers about curing diseases with AI\", vectorizer, tfidf_matrix, df, top_k=5)"
   ]
  },
  {
   "cell_type": "code",
   "execution_count": 9,
   "id": "54c8ba4a",
   "metadata": {},
   "outputs": [
    {
     "data": {
      "text/html": [
       "<div>\n",
       "<style scoped>\n",
       "    .dataframe tbody tr th:only-of-type {\n",
       "        vertical-align: middle;\n",
       "    }\n",
       "\n",
       "    .dataframe tbody tr th {\n",
       "        vertical-align: top;\n",
       "    }\n",
       "\n",
       "    .dataframe thead th {\n",
       "        text-align: right;\n",
       "    }\n",
       "</style>\n",
       "<table border=\"1\" class=\"dataframe\">\n",
       "  <thead>\n",
       "    <tr style=\"text-align: right;\">\n",
       "      <th></th>\n",
       "      <th>id</th>\n",
       "      <th>authors</th>\n",
       "      <th>title</th>\n",
       "      <th>comments</th>\n",
       "      <th>journal-ref</th>\n",
       "      <th>doi</th>\n",
       "      <th>categories</th>\n",
       "      <th>abstract</th>\n",
       "      <th>update_date</th>\n",
       "      <th>abstract_clean</th>\n",
       "      <th>title_clean</th>\n",
       "      <th>primary_category</th>\n",
       "      <th>num_versions</th>\n",
       "      <th>first_version_date</th>\n",
       "      <th>similarity_score</th>\n",
       "    </tr>\n",
       "  </thead>\n",
       "  <tbody>\n",
       "    <tr>\n",
       "      <th>910080</th>\n",
       "      <td>1711.03070</td>\n",
       "      <td>Mikhail Hayhoe, Fady Alajaji, Bahman Gharesifard</td>\n",
       "      <td>Curing Epidemics on Networks using a Polya Con...</td>\n",
       "      <td>12 pages, 11 figures</td>\n",
       "      <td></td>\n",
       "      <td></td>\n",
       "      <td>math.OC cs.SI math.PR</td>\n",
       "      <td>We study the curing of epidemics of a networ...</td>\n",
       "      <td>2017-11-09</td>\n",
       "      <td>study curing epidemics network contagion model...</td>\n",
       "      <td>curing epidemics networks using polya contagio...</td>\n",
       "      <td>math.OC</td>\n",
       "      <td>1</td>\n",
       "      <td>Wed, 8 Nov 2017 17:53:18 GMT</td>\n",
       "      <td>0.417213</td>\n",
       "    </tr>\n",
       "    <tr>\n",
       "      <th>971690</th>\n",
       "      <td>1804.09997</td>\n",
       "      <td>Jinyang Gao, Wei Wang, Meihui Zhang, Gang Chen...</td>\n",
       "      <td>PANDA: Facilitating Usable AI Development</td>\n",
       "      <td></td>\n",
       "      <td></td>\n",
       "      <td></td>\n",
       "      <td>cs.AI cs.DB</td>\n",
       "      <td>Recent advances in artificial intelligence (...</td>\n",
       "      <td>2018-04-27</td>\n",
       "      <td>recent advances artificial intelligence ai mac...</td>\n",
       "      <td>panda facilitating usable ai development</td>\n",
       "      <td>cs.AI</td>\n",
       "      <td>1</td>\n",
       "      <td>Thu, 26 Apr 2018 11:37:03 GMT</td>\n",
       "      <td>0.369809</td>\n",
       "    </tr>\n",
       "    <tr>\n",
       "      <th>957366</th>\n",
       "      <td>1803.07233</td>\n",
       "      <td>Ziv Epstein, Blakeley H. Payne, Judy Hanwen Sh...</td>\n",
       "      <td>Closing the AI Knowledge Gap</td>\n",
       "      <td>8 pages, 3 figures, under review</td>\n",
       "      <td></td>\n",
       "      <td></td>\n",
       "      <td>cs.CY cs.AI</td>\n",
       "      <td>AI researchers employ not only the scientifi...</td>\n",
       "      <td>2018-03-21</td>\n",
       "      <td>ai researchers employ scientific method method...</td>\n",
       "      <td>closing ai knowledge gap</td>\n",
       "      <td>cs.CY</td>\n",
       "      <td>1</td>\n",
       "      <td>Tue, 20 Mar 2018 03:16:10 GMT</td>\n",
       "      <td>0.363059</td>\n",
       "    </tr>\n",
       "    <tr>\n",
       "      <th>473267</th>\n",
       "      <td>1310.82640</td>\n",
       "      <td>Ralf Landgraf, Martin Rudolph, Robert Scherzer...</td>\n",
       "      <td>Modelling and simulation of adhesive curing pr...</td>\n",
       "      <td>final paper published at Journal of Computatio...</td>\n",
       "      <td>Comp Mech 54(2):547-565 (2014)</td>\n",
       "      <td>10.1007/s00466-014-1005-5</td>\n",
       "      <td>cond-mat.mtrl-sci</td>\n",
       "      <td>This work deals with the modelling and simul...</td>\n",
       "      <td>2014-07-08</td>\n",
       "      <td>work deals modelling simulation curing phenome...</td>\n",
       "      <td>modelling simulation adhesive curing processes...</td>\n",
       "      <td>cond-mat.mtrl-sci</td>\n",
       "      <td>2</td>\n",
       "      <td>Wed, 30 Oct 2013 18:39:22 GMT</td>\n",
       "      <td>0.324882</td>\n",
       "    </tr>\n",
       "    <tr>\n",
       "      <th>941573</th>\n",
       "      <td>1802.02033</td>\n",
       "      <td>Robert Feldt, Francisco G. de Oliveira Neto, R...</td>\n",
       "      <td>Ways of Applying Artificial Intelligence in So...</td>\n",
       "      <td></td>\n",
       "      <td></td>\n",
       "      <td></td>\n",
       "      <td>cs.SE</td>\n",
       "      <td>As Artificial Intelligence (AI) techniques h...</td>\n",
       "      <td>2018-02-08</td>\n",
       "      <td>artificial intelligence ai techniques powerful...</td>\n",
       "      <td>ways applying artificial intelligence software...</td>\n",
       "      <td>cs.SE</td>\n",
       "      <td>2</td>\n",
       "      <td>Tue, 6 Feb 2018 16:20:17 GMT</td>\n",
       "      <td>0.323755</td>\n",
       "    </tr>\n",
       "  </tbody>\n",
       "</table>\n",
       "</div>"
      ],
      "text/plain": [
       "                id                                            authors  \\\n",
       "910080  1711.03070   Mikhail Hayhoe, Fady Alajaji, Bahman Gharesifard   \n",
       "971690  1804.09997  Jinyang Gao, Wei Wang, Meihui Zhang, Gang Chen...   \n",
       "957366  1803.07233  Ziv Epstein, Blakeley H. Payne, Judy Hanwen Sh...   \n",
       "473267  1310.82640  Ralf Landgraf, Martin Rudolph, Robert Scherzer...   \n",
       "941573  1802.02033  Robert Feldt, Francisco G. de Oliveira Neto, R...   \n",
       "\n",
       "                                                    title  \\\n",
       "910080  Curing Epidemics on Networks using a Polya Con...   \n",
       "971690          PANDA: Facilitating Usable AI Development   \n",
       "957366                       Closing the AI Knowledge Gap   \n",
       "473267  Modelling and simulation of adhesive curing pr...   \n",
       "941573  Ways of Applying Artificial Intelligence in So...   \n",
       "\n",
       "                                                 comments  \\\n",
       "910080                               12 pages, 11 figures   \n",
       "971690                                                      \n",
       "957366                   8 pages, 3 figures, under review   \n",
       "473267  final paper published at Journal of Computatio...   \n",
       "941573                                                      \n",
       "\n",
       "                           journal-ref                        doi  \\\n",
       "910080                                                              \n",
       "971690                                                              \n",
       "957366                                                              \n",
       "473267  Comp Mech 54(2):547-565 (2014)  10.1007/s00466-014-1005-5   \n",
       "941573                                                              \n",
       "\n",
       "                   categories  \\\n",
       "910080  math.OC cs.SI math.PR   \n",
       "971690            cs.AI cs.DB   \n",
       "957366            cs.CY cs.AI   \n",
       "473267      cond-mat.mtrl-sci   \n",
       "941573                  cs.SE   \n",
       "\n",
       "                                                 abstract update_date  \\\n",
       "910080    We study the curing of epidemics of a networ...  2017-11-09   \n",
       "971690    Recent advances in artificial intelligence (...  2018-04-27   \n",
       "957366    AI researchers employ not only the scientifi...  2018-03-21   \n",
       "473267    This work deals with the modelling and simul...  2014-07-08   \n",
       "941573    As Artificial Intelligence (AI) techniques h...  2018-02-08   \n",
       "\n",
       "                                           abstract_clean  \\\n",
       "910080  study curing epidemics network contagion model...   \n",
       "971690  recent advances artificial intelligence ai mac...   \n",
       "957366  ai researchers employ scientific method method...   \n",
       "473267  work deals modelling simulation curing phenome...   \n",
       "941573  artificial intelligence ai techniques powerful...   \n",
       "\n",
       "                                              title_clean   primary_category  \\\n",
       "910080  curing epidemics networks using polya contagio...            math.OC   \n",
       "971690           panda facilitating usable ai development              cs.AI   \n",
       "957366                           closing ai knowledge gap              cs.CY   \n",
       "473267  modelling simulation adhesive curing processes...  cond-mat.mtrl-sci   \n",
       "941573  ways applying artificial intelligence software...              cs.SE   \n",
       "\n",
       "        num_versions             first_version_date  similarity_score  \n",
       "910080             1   Wed, 8 Nov 2017 17:53:18 GMT          0.417213  \n",
       "971690             1  Thu, 26 Apr 2018 11:37:03 GMT          0.369809  \n",
       "957366             1  Tue, 20 Mar 2018 03:16:10 GMT          0.363059  \n",
       "473267             2  Wed, 30 Oct 2013 18:39:22 GMT          0.324882  \n",
       "941573             2   Tue, 6 Feb 2018 16:20:17 GMT          0.323755  "
      ]
     },
     "execution_count": 9,
     "metadata": {},
     "output_type": "execute_result"
    }
   ],
   "source": [
    "top_papers"
   ]
  }
 ],
 "metadata": {
  "kernelspec": {
   "display_name": "venv",
   "language": "python",
   "name": "python3"
  },
  "language_info": {
   "codemirror_mode": {
    "name": "ipython",
    "version": 3
   },
   "file_extension": ".py",
   "mimetype": "text/x-python",
   "name": "python",
   "nbconvert_exporter": "python",
   "pygments_lexer": "ipython3",
   "version": "3.13.5"
  }
 },
 "nbformat": 4,
 "nbformat_minor": 5
}
